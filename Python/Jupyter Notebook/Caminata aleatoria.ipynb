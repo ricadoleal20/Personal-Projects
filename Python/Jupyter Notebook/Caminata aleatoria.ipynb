{
 "cells": [
  {
   "cell_type": "markdown",
   "metadata": {},
   "source": [
    "\n",
    "#                   Caminata aleatoria                   \n",
    "\n",
    "En este código, desarrollamos el método  de caminata aleatoria, método usado principalmente para problemas de física estadistica. El código fue desarrollado para como evidencia para el proyecto N.4 de la materia Aplicaciones de la nanotecnología computacional.\n",
    "\n",
    "email: ricardo.lealpz@gmail.com                         \n",
    "\n",
    "Fecha:27/10/20"
   ]
  },
  {
   "cell_type": "code",
   "execution_count": 1,
   "metadata": {},
   "outputs": [],
   "source": [
    "import numpy as np\n",
    "import math as math\n",
    "import random as random\n",
    "import matplotlib.pyplot as plt\n",
    "from time import time\n",
    "from jupyterthemes import jtplot\n",
    "jtplot.style(theme='onedork')\n",
    "jtplot.style(ticks=True, grid=False, figsize=(15, 7))"
   ]
  },
  {
   "cell_type": "code",
   "execution_count": 2,
   "metadata": {},
   "outputs": [],
   "source": [
    "#Esta función solo sirve para calcular el tiempo de ejecución del código.\n",
    "def tiempo_total(tiempo):\n",
    "\ttiempo_calculado=time()\n",
    "\ttiempo_final=(tiempo_calculado-tiempo)\n",
    "\tif (tiempo_final>3600):\n",
    "\t\tprint('El código tardo %s horas en ejecutarse.' % (tiempo_final/3600))\n",
    "\telif (tiempo_final>60):\n",
    "\t\tprint('El código tardo %s minutos en ejecutarse.' % (tiempo_final/60))\n",
    "\telse:\n",
    "\t\tprint('El código tardo %s segundos en ejecutarse.' % tiempo_final)\n",
    "\n",
    "#Nos genera dos archivos txt para poder graficar en LaTex y para\n",
    "#tener las posiciones exactas de nuestro sistema.\n",
    "def txt(x,y,N):\n",
    "\tt1=open(\"grafica_caminante.txt\",\"w\")\n",
    "\n",
    "\tfor i in range(0,N-1):\n",
    "\t\tt1.write(str(x[i])); t1.write(\" \"); t1.write(str(y[i]))\n",
    "\t\tt1.write(\"\\n\")\n",
    "\n",
    "\tt1.close()"
   ]
  },
  {
   "cell_type": "code",
   "execution_count": 3,
   "metadata": {},
   "outputs": [],
   "source": [
    "#Aqui graficaremos los valores para observar las posiciones (x,y).\n",
    "def grafica(x,y,N):\n",
    "\tplt.figure()\n",
    "\tplt.title('Caminata aleatoria caso (a)')\n",
    "\tplt.xlabel('x')\n",
    "\tplt.ylabel('y')\n",
    "\t#plt.plot(x,y,'r')\n",
    "\tplt.scatter(x,y,color='red',lw=3)\n",
    "\tplt.grid()\n",
    "\tplt.show()"
   ]
  },
  {
   "cell_type": "code",
   "execution_count": 4,
   "metadata": {},
   "outputs": [],
   "source": [
    "#Aqui graficaremos para r, únicamente.\n",
    "def graficaR(rprom,NTot):\n",
    "\tx=np.zeros(NTot)\n",
    "\tfor i in range(0,NTot):\n",
    "\t\tx[i]=i\n",
    "\tplt.figure()\n",
    "\tplt.title('Valor promedio de R')\n",
    "\tplt.ylabel('r_prom')\n",
    "\tplt.xlabel('N')\n",
    "\tplt.plot(x,rprom,color='red',lw=2)\n",
    "\tplt.xlim(x[0],x[NTot-1])\n",
    "\tplt.show()\n",
    "\n",
    "#Esta funcion es para los txt de nuestra R y r.\n",
    "def txt2(rprom,Rpro,NTot):\n",
    "\tt1=open(\"rprom.txt\",\"w\")\n",
    "\tt2=open(\"Rpromedio.txt\",\"w\")\n",
    "\n",
    "\tfor i in range(0,NTot):\n",
    "\t\tt1.write(str(i)); t1.write(\" \"); t1.write(str(rprom[i]))\n",
    "\t\tt1.write(\"\\n\")\n",
    "\n",
    "\t\tt2.write(str(i)); t2.write(\" \"); t2.write(str(Rpro[i]))\n",
    "\t\tt2.write(\"\\n\")\n",
    "\n",
    "\tt1.close(); t2.close()"
   ]
  },
  {
   "cell_type": "code",
   "execution_count": 5,
   "metadata": {},
   "outputs": [],
   "source": [
    "#La función esta hecha para generar la posicion de nuestro caminante.\n",
    "def posicion(N):\n",
    "\n",
    "\t#Generamos dos posiciones, una en x y una en y.\n",
    "\t#Esto lo lograremos creando dos matrices con numpy.\n",
    "\t#Lo hacemos para poder obtener un cambio en las 4 opciones de\n",
    "\t#movimiento que nos ofrecen. Podemos movernos en una malla cuadracular\n",
    "\t#con movimientos permitidos únicamente en números enteros. Podremos movernos\n",
    "\t#en 1 unidad (-1,1) en x o en 1 unidad en y. Solo podra moverse entre esas\n",
    "\t#opciones.\n",
    "\tx=np.zeros(N)\n",
    "\ty=np.zeros(N)\n",
    "\n",
    "\tr=np.zeros(N)\n",
    "\n",
    "\t#Entonces, generamos un numero entero aleatorio que decidira hacia donde se movera.\n",
    "\t\n",
    "\tfor i in range(0,N-1):\n",
    "\t\tif (i==0):\n",
    "\t\t\tx[i]=0\n",
    "\t\t\ty[i]=0\n",
    "\n",
    "\t\t#Aqui generamos nuestro numero aleatorio para saber a donde se movera.\t\n",
    "\t\taleatorio=random.randint(1,4)\n",
    "\n",
    "\t\t#Esto nos genera v_{1}=(+1,0)\n",
    "\t\tif (aleatorio==1):\n",
    "\n",
    "\t\t\tx[i]=x[i-1]+1\n",
    "\t\t\ty[i]=y[i-1]\n",
    "\n",
    "\t\t#Esto nos genera v_{2}=(0,+1)\n",
    "\t\telif (aleatorio==2):\n",
    "\n",
    "\t\t\tx[i]=x[i-1]\n",
    "\t\t\ty[i]=y[i-1]+1\n",
    "\n",
    "\t\t#Esto nos genera v_{3}=(-1,0)\n",
    "\t\telif (aleatorio==3):\n",
    "\n",
    "\t\t\tx[i]=x[i-1]-1\n",
    "\t\t\ty[i]=y[i-1]\n",
    "\n",
    "\t\t#Esto nos genera v_{4}=(0,-1)\n",
    "\t\telif (aleatorio==4):\n",
    "\n",
    "\t\t\tx[i]=x[i-1]\n",
    "\t\t\ty[i]=y[i-1]-1\n",
    "\n",
    "\t#Una vez obtenido todos los pasos de nuestro caminante, calculamos R\n",
    "\t#sabiendo que es la distancia desde el inicio hasta el final.\n",
    "\tr=math.sqrt((x[N-1]-x[0])**2+(y[N-1]-y[0])**2)\n",
    "\n",
    "\n",
    "\t#Ahora, generamos los txt y la grafica con nuestras posiciones en (x,y).\n",
    "\t#texto=txt(x,y,N)\n",
    "\t#graficar=grafica(x,y,N)\n",
    "\n",
    "\treturn r"
   ]
  },
  {
   "cell_type": "code",
   "execution_count": 6,
   "metadata": {},
   "outputs": [],
   "source": [
    "#Esta es la funcion que correra N veces la random walk con el proposito\n",
    "#de obtener distintos valores promedios que puedan cumplir que R=N y r=\\sqrt{N}.\n",
    "def solucion():\n",
    "\ttiempo=time() #Solo inicilizamos el tiempo para calcularlo despues.\n",
    "\n",
    "\tP=500 #Aqui ponemos la cantidad de pasos inicial a dar en la random walk.\n",
    "\tn=500 #Las veces que repetiremos el proceso para obtener nuestro promedio.\n",
    "\tNTot=20 #Él numero de valores promedio que buscamos.\n",
    "\n",
    "\t#Aqui generamos dos matrices para los valores de nuestra R y r.\n",
    "\trprom=np.zeros(NTot) #Esta es para r.\n",
    "\tRpro=np.zeros(NTot)  #Esta es para R.\n",
    "\trsum=0               #Solo inicializamos una variable.\n",
    "\n",
    "\t#Generamos un ciclo para calcular todos los valores promedio.\n",
    "\t#Iremos variando el numero de pasos para obtener distintos R_{prom}.\n",
    "\tfor i in range(0,NTot):\n",
    "\t\t#Este ciclo es para calcular n veces el valor r con random walk.\n",
    "\t\tfor j in range(0,n):\n",
    "\t\t\tr=posicion(P) #Llamamos a la funcion de random walk.\n",
    "\t\t\trsum+=r #Aqui generamos la suma para sacar promedio.\n",
    "\n",
    "\t\tRpro[i]=(rsum/n) #Aqui calculamos la R=NTot\n",
    "\t\trprom[i]=math.sqrt(Rpro[i]) #Aqui calculamos la r=\\sqrt(NTot)\n",
    "\n",
    "\t\tP+=10 #Aqui aumentamos el num. de pasos en random walk.\n",
    "\n",
    "\t\t#print(\"Rprom[{f}]={d}\".format(f=i,d=Rpro[i]))\n",
    "\n",
    "\t#Aqui solamente llamamos funciones para generar archivos txt y graficar.\n",
    "\tgraficar=graficaR(rprom,NTot)\n",
    "\t#archivos=txt2(rprom,Rpro,NTot)\n",
    "\ttiempo_calculado=tiempo_total(tiempo) #Calculamos el tiempo de ejecucion."
   ]
  },
  {
   "cell_type": "code",
   "execution_count": 7,
   "metadata": {},
   "outputs": [
    {
     "data": {
      "image/png": "[encoded data removed]",
      "text/plain": [
       "<Figure size 864x403.2 with 1 Axes>"
      ]
     },
     "metadata": {},
     "output_type": "display_data"
    },
    {
     "name": "stdout",
     "output_type": "stream",
     "text": [
      "El código tardo 33.83351445198059 segundos en ejecutarse.\n"
     ]
    }
   ],
   "source": [
    "#Aqui corremos todo el código.\n",
    "if ( __name__ == '__main__' ):\n",
    "\tsolucion=solucion()"
   ]
  }
 ],
 "metadata": {
  "kernelspec": {
   "display_name": "Python 3",
   "language": "python",
   "name": "python3"
  },
  "language_info": {
   "codemirror_mode": {
    "name": "ipython",
    "version": 3
   },
   "file_extension": ".py",
   "mimetype": "text/x-python",
   "name": "python",
   "nbconvert_exporter": "python",
   "pygments_lexer": "ipython3",
   "version": "3.6.9"
  }
 },
 "nbformat": 4,
 "nbformat_minor": 4
}
